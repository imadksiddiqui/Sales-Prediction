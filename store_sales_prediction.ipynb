{
  "nbformat": 4,
  "nbformat_minor": 0,
  "metadata": {
    "colab": {
      "provenance": [],
      "authorship_tag": "ABX9TyOTaMnyMbLVWZ38zXg4TyRh",
      "include_colab_link": true
    },
    "kernelspec": {
      "name": "python3",
      "display_name": "Python 3"
    },
    "language_info": {
      "name": "python"
    }
  },
  "cells": [
    {
      "cell_type": "markdown",
      "metadata": {
        "id": "view-in-github",
        "colab_type": "text"
      },
      "source": [
        "<a href=\"https://colab.research.google.com/github/imadksiddiqui/Sales-Prediction/blob/main/store_sales_prediction.ipynb\" target=\"_parent\"><img src=\"https://colab.research.google.com/assets/colab-badge.svg\" alt=\"Open In Colab\"/></a>"
      ]
    },
    {
      "cell_type": "code",
      "execution_count": null,
      "metadata": {
        "colab": {
          "base_uri": "https://localhost:8080/"
        },
        "id": "Zx2aUc7MoGCe",
        "outputId": "c5764fcf-ff29-43b9-f078-3bcd4fa098f6"
      },
      "outputs": [
        {
          "output_type": "stream",
          "name": "stdout",
          "text": [
            "\u001b[K     |████████████████████████████████| 89 kB 3.9 MB/s \n",
            "\u001b[K     |████████████████████████████████| 76.6 MB 1.2 MB/s \n",
            "\u001b[K     |████████████████████████████████| 1.6 MB 28.7 MB/s \n",
            "\u001b[K     |████████████████████████████████| 2.0 MB 55.9 MB/s \n",
            "\u001b[K     |████████████████████████████████| 12.2 MB 41.6 MB/s \n",
            "\u001b[?25h"
          ]
        }
      ],
      "source": [
        "%pip install -Uq upgini catboost"
      ]
    },
    {
      "cell_type": "code",
      "source": [
        "from os.path import exists\n",
        "import pandas as pd\n",
        "\n",
        "df_path = \"train.csv.zip\" if exists(\"tran.csv.zip\") else \"https://github.com/upgini/upgini/raw/main/notebooks/train.csv.zip\"\n",
        "df = pd.read_csv(df_path)\n",
        "df = df.sample(n=10_000, random_state=0)\n",
        "df[\"store\"] = df[\"store\"].astype(str)\n",
        "df[\"item\"] = df[\"item\"].astype(str)\n",
        "\n",
        "df[\"date\"] = pd.to_datetime(df[\"date\"])\n",
        "\n",
        "df.sort_values(\"date\", inplace=True)\n",
        "df.reset_index(inplace=True, drop=True)\n",
        "df.head()\n"
      ],
      "metadata": {
        "colab": {
          "base_uri": "https://localhost:8080/",
          "height": 206
        },
        "id": "A4e3nleoo_TD",
        "outputId": "a3bf2acb-f92b-4042-c2f3-913ff9925a70"
      },
      "execution_count": null,
      "outputs": [
        {
          "output_type": "execute_result",
          "data": {
            "text/plain": [
              "        date store item  sales\n",
              "0 2013-01-01     3   12     38\n",
              "1 2013-01-01     4    9     19\n",
              "2 2013-01-01    10   21     33\n",
              "3 2013-01-01     3   27     11\n",
              "4 2013-01-01     2    3     19"
            ],
            "text/html": [
              "\n",
              "  <div id=\"df-b057fb89-13a6-4745-9cfb-28cc30ed98c5\">\n",
              "    <div class=\"colab-df-container\">\n",
              "      <div>\n",
              "<style scoped>\n",
              "    .dataframe tbody tr th:only-of-type {\n",
              "        vertical-align: middle;\n",
              "    }\n",
              "\n",
              "    .dataframe tbody tr th {\n",
              "        vertical-align: top;\n",
              "    }\n",
              "\n",
              "    .dataframe thead th {\n",
              "        text-align: right;\n",
              "    }\n",
              "</style>\n",
              "<table border=\"1\" class=\"dataframe\">\n",
              "  <thead>\n",
              "    <tr style=\"text-align: right;\">\n",
              "      <th></th>\n",
              "      <th>date</th>\n",
              "      <th>store</th>\n",
              "      <th>item</th>\n",
              "      <th>sales</th>\n",
              "    </tr>\n",
              "  </thead>\n",
              "  <tbody>\n",
              "    <tr>\n",
              "      <th>0</th>\n",
              "      <td>2013-01-01</td>\n",
              "      <td>3</td>\n",
              "      <td>12</td>\n",
              "      <td>38</td>\n",
              "    </tr>\n",
              "    <tr>\n",
              "      <th>1</th>\n",
              "      <td>2013-01-01</td>\n",
              "      <td>4</td>\n",
              "      <td>9</td>\n",
              "      <td>19</td>\n",
              "    </tr>\n",
              "    <tr>\n",
              "      <th>2</th>\n",
              "      <td>2013-01-01</td>\n",
              "      <td>10</td>\n",
              "      <td>21</td>\n",
              "      <td>33</td>\n",
              "    </tr>\n",
              "    <tr>\n",
              "      <th>3</th>\n",
              "      <td>2013-01-01</td>\n",
              "      <td>3</td>\n",
              "      <td>27</td>\n",
              "      <td>11</td>\n",
              "    </tr>\n",
              "    <tr>\n",
              "      <th>4</th>\n",
              "      <td>2013-01-01</td>\n",
              "      <td>2</td>\n",
              "      <td>3</td>\n",
              "      <td>19</td>\n",
              "    </tr>\n",
              "  </tbody>\n",
              "</table>\n",
              "</div>\n",
              "      <button class=\"colab-df-convert\" onclick=\"convertToInteractive('df-b057fb89-13a6-4745-9cfb-28cc30ed98c5')\"\n",
              "              title=\"Convert this dataframe to an interactive table.\"\n",
              "              style=\"display:none;\">\n",
              "        \n",
              "  <svg xmlns=\"http://www.w3.org/2000/svg\" height=\"24px\"viewBox=\"0 0 24 24\"\n",
              "       width=\"24px\">\n",
              "    <path d=\"M0 0h24v24H0V0z\" fill=\"none\"/>\n",
              "    <path d=\"M18.56 5.44l.94 2.06.94-2.06 2.06-.94-2.06-.94-.94-2.06-.94 2.06-2.06.94zm-11 1L8.5 8.5l.94-2.06 2.06-.94-2.06-.94L8.5 2.5l-.94 2.06-2.06.94zm10 10l.94 2.06.94-2.06 2.06-.94-2.06-.94-.94-2.06-.94 2.06-2.06.94z\"/><path d=\"M17.41 7.96l-1.37-1.37c-.4-.4-.92-.59-1.43-.59-.52 0-1.04.2-1.43.59L10.3 9.45l-7.72 7.72c-.78.78-.78 2.05 0 2.83L4 21.41c.39.39.9.59 1.41.59.51 0 1.02-.2 1.41-.59l7.78-7.78 2.81-2.81c.8-.78.8-2.07 0-2.86zM5.41 20L4 18.59l7.72-7.72 1.47 1.35L5.41 20z\"/>\n",
              "  </svg>\n",
              "      </button>\n",
              "      \n",
              "  <style>\n",
              "    .colab-df-container {\n",
              "      display:flex;\n",
              "      flex-wrap:wrap;\n",
              "      gap: 12px;\n",
              "    }\n",
              "\n",
              "    .colab-df-convert {\n",
              "      background-color: #E8F0FE;\n",
              "      border: none;\n",
              "      border-radius: 50%;\n",
              "      cursor: pointer;\n",
              "      display: none;\n",
              "      fill: #1967D2;\n",
              "      height: 32px;\n",
              "      padding: 0 0 0 0;\n",
              "      width: 32px;\n",
              "    }\n",
              "\n",
              "    .colab-df-convert:hover {\n",
              "      background-color: #E2EBFA;\n",
              "      box-shadow: 0px 1px 2px rgba(60, 64, 67, 0.3), 0px 1px 3px 1px rgba(60, 64, 67, 0.15);\n",
              "      fill: #174EA6;\n",
              "    }\n",
              "\n",
              "    [theme=dark] .colab-df-convert {\n",
              "      background-color: #3B4455;\n",
              "      fill: #D2E3FC;\n",
              "    }\n",
              "\n",
              "    [theme=dark] .colab-df-convert:hover {\n",
              "      background-color: #434B5C;\n",
              "      box-shadow: 0px 1px 3px 1px rgba(0, 0, 0, 0.15);\n",
              "      filter: drop-shadow(0px 1px 2px rgba(0, 0, 0, 0.3));\n",
              "      fill: #FFFFFF;\n",
              "    }\n",
              "  </style>\n",
              "\n",
              "      <script>\n",
              "        const buttonEl =\n",
              "          document.querySelector('#df-b057fb89-13a6-4745-9cfb-28cc30ed98c5 button.colab-df-convert');\n",
              "        buttonEl.style.display =\n",
              "          google.colab.kernel.accessAllowed ? 'block' : 'none';\n",
              "\n",
              "        async function convertToInteractive(key) {\n",
              "          const element = document.querySelector('#df-b057fb89-13a6-4745-9cfb-28cc30ed98c5');\n",
              "          const dataTable =\n",
              "            await google.colab.kernel.invokeFunction('convertToInteractive',\n",
              "                                                     [key], {});\n",
              "          if (!dataTable) return;\n",
              "\n",
              "          const docLinkHtml = 'Like what you see? Visit the ' +\n",
              "            '<a target=\"_blank\" href=https://colab.research.google.com/notebooks/data_table.ipynb>data table notebook</a>'\n",
              "            + ' to learn more about interactive tables.';\n",
              "          element.innerHTML = '';\n",
              "          dataTable['output_type'] = 'display_data';\n",
              "          await google.colab.output.renderOutput(dataTable, element);\n",
              "          const docLink = document.createElement('div');\n",
              "          docLink.innerHTML = docLinkHtml;\n",
              "          element.appendChild(docLink);\n",
              "        }\n",
              "      </script>\n",
              "    </div>\n",
              "  </div>\n",
              "  "
            ]
          },
          "metadata": {},
          "execution_count": 2
        }
      ]
    },
    {
      "cell_type": "markdown",
      "source": [
        "data from before 2017 goes into training the model and during 2017 goes into testing the model"
      ],
      "metadata": {
        "id": "8Xm2xpDA3D52"
      }
    },
    {
      "cell_type": "code",
      "source": [
        "train = df[df[\"date\"] < \"2017-01-01\"]\n",
        "test = df[df[\"date\"] >= \"2017-01-01\"]"
      ],
      "metadata": {
        "id": "CeO8-d5AsPmU"
      },
      "execution_count": null,
      "outputs": []
    },
    {
      "cell_type": "code",
      "source": [
        "train_features = train.drop(columns=[\"sales\"])\n",
        "train_target = train[\"sales\"]\n",
        "test_features = test.drop(columns=[\"sales\"])\n",
        "test_target = test[\"sales\"]"
      ],
      "metadata": {
        "id": "0CBp2mA_sqB7"
      },
      "execution_count": null,
      "outputs": []
    },
    {
      "cell_type": "markdown",
      "source": [
        "Use upgini to find more relevant datasets to train model with using date as the search key"
      ],
      "metadata": {
        "id": "CTvKillu3pd4"
      }
    },
    {
      "cell_type": "code",
      "source": [
        "from upgini import FeaturesEnricher, SearchKey\n",
        "from upgini.metadata import CVType\n",
        "\n",
        "enricher = FeaturesEnricher(\n",
        "    search_keys= {\n",
        "        \"date\": SearchKey.DATE,\n",
        "    },\n",
        "    cv = CVType.time_series\n",
        ")\n",
        "enricher.fit(train_features,\n",
        "             train_target,\n",
        "             eval_set=[(test_features, test_target)])"
      ],
      "metadata": {
        "colab": {
          "base_uri": "https://localhost:8080/",
          "height": 738
        },
        "id": "oPP4HncStD-f",
        "outputId": "6ce300bf-902e-4e88-b163-e1fbc136493e"
      },
      "execution_count": null,
      "outputs": [
        {
          "output_type": "display_data",
          "data": {
            "text/plain": [
              "<IPython.core.display.Javascript object>"
            ],
            "application/javascript": [
              "\n",
              "                        window.clientIP =\n",
              "                            fetch(\"https://api.ipify.org\")\n",
              "                            .then(response => response.text())\n",
              "                            .then(data => data);\n",
              "                        const fpPromise = import('https://openfpcdn.io/fingerprintjs/v3')\n",
              "                            .then(FingerprintJS => FingerprintJS.load())\n",
              "                        window.visitorId =\n",
              "                            fpPromise\n",
              "                            .then(fp => fp.get())\n",
              "                            .then(result => result.visitorId)\n",
              "                    "
            ]
          },
          "metadata": {}
        },
        {
          "output_type": "stream",
          "name": "stdout",
          "text": [
            "WARNING: You have started the search with the DATE key only. Try to add the COUNTRY and/or POSTAL_CODE and/or PHONE NUMBER and/or EMAIL/HEM and/or IP address keys to your dataset so that the search engine gets access to the additional data sources. Get details on https://github.com/upgini/upgini#readme\n",
            "Detected task type: ModelTaskType.REGRESSION\n"
          ]
        },
        {
          "output_type": "display_data",
          "data": {
            "text/plain": [
              "<IPython.core.display.HTML object>"
            ],
            "text/html": [
              "<table><tr><th style='font-weight:bold'>Column name</th><th style='font-weight:bold'>Status</th><th style='font-weight:bold'>Description</th></tr><tr><td>date</td><td style='background-color:#DAF7A6;color:black'>All valid</td><td>All values in this column are good to go</td></tr><tr><td>target</td><td style='background-color:#DAF7A6;color:black'>All valid</td><td>All values in this column are good to go</td></tr></table>"
            ]
          },
          "metadata": {}
        },
        {
          "output_type": "stream",
          "name": "stdout",
          "text": [
            "Running search request with search_id=93739408-7661-4f38-a758-4321b2d150f9\n",
            "We'll send email notification once it's completed, just use your personal api_key from profile.upgini.com\n",
            "Done\n",
            "\n",
            "\u001b[92m\u001b[1m\n",
            "12 relevant feature(s) found with the search keys: ['date']\u001b[0m\n"
          ]
        },
        {
          "output_type": "display_data",
          "data": {
            "text/plain": [
              "<IPython.core.display.HTML object>"
            ],
            "text/html": [
              "<style>\n",
              "            .upgini-df thead th {\n",
              "                font-weight:bold;\n",
              "                text-align: right;\n",
              "                padding: 0.5em;\n",
              "            }\n",
              "\n",
              "            .upgini-df td {\n",
              "                padding: 0.5em;\n",
              "            }\n",
              "\n",
              "            .upgini-text {\n",
              "                text-align: right;\n",
              "            }\n",
              "\n",
              "            .upgini-number {\n",
              "                text-align: center;\n",
              "            }\n",
              "        </style><table class='upgini-df'><thead><th>provider</th><th>source</th><th>feature name</th><th>shap value</th><th>coverage %</th><th>type</th><th>feature type</th></thead><tbody><tr><td class='upgini-text'></td><td class='upgini-text'></td><td class='upgini-text'>item</td><td class='upgini-number'>0.466819</td><td class='upgini-number'>100.000000</td><td class='upgini-text'>categorical</td><td class='upgini-text'></td></tr><tr><td class='upgini-text'></td><td class='upgini-text'></td><td class='upgini-text'>store</td><td class='upgini-number'>0.160156</td><td class='upgini-number'>100.000000</td><td class='upgini-text'>categorical</td><td class='upgini-text'></td></tr><tr><td class='upgini-text'><a href='https://upgini.com/#data_sources' target='_blank' rel='noopener noreferrer'>Upgini</a></td><td class='upgini-text'><a href='https://upgini.com/#data_sources' target='_blank' rel='noopener noreferrer'>Public/Comm. shared</a></td><td class='upgini-text'>f_weather_date_weather_pca_0_d7e0a1fc</td><td class='upgini-number'>0.046755</td><td class='upgini-number'>100.000000</td><td class='upgini-text'>numerical</td><td class='upgini-text'>Free</td></tr><tr><td class='upgini-text'><a href='https://upgini.com/#data_sources' target='_blank' rel='noopener noreferrer'>Upgini</a></td><td class='upgini-text'><a href='https://upgini.com/#data_sources' target='_blank' rel='noopener noreferrer'>Public/Comm. shared</a></td><td class='upgini-text'>f_events_date_week_sin1_847b5db1</td><td class='upgini-number'>0.038227</td><td class='upgini-number'>100.000000</td><td class='upgini-text'>numerical</td><td class='upgini-text'>Free</td></tr><tr><td class='upgini-text'><a href='https://upgini.com/#data_sources' target='_blank' rel='noopener noreferrer'>Upgini</a></td><td class='upgini-text'><a href='https://upgini.com/#data_sources' target='_blank' rel='noopener noreferrer'>Public/Comm. shared</a></td><td class='upgini-text'>f_weather_date_weather_umap_33_89bb7578</td><td class='upgini-number'>0.026237</td><td class='upgini-number'>100.000000</td><td class='upgini-text'>numerical</td><td class='upgini-text'>Free</td></tr><tr><td class='upgini-text'><a href='https://upgini.com/#data_sources' target='_blank' rel='noopener noreferrer'>Upgini</a></td><td class='upgini-text'><a href='https://upgini.com/#data_sources' target='_blank' rel='noopener noreferrer'>Public/Comm. shared</a></td><td class='upgini-text'>f_weather_date_weather_umap_48_b39cd0c4</td><td class='upgini-number'>0.024478</td><td class='upgini-number'>100.000000</td><td class='upgini-text'>numerical</td><td class='upgini-text'>Free</td></tr><tr><td class='upgini-text'><a href='https://upgini.com/#data_sources' target='_blank' rel='noopener noreferrer'>Upgini</a></td><td class='upgini-text'><a href='https://upgini.com/#data_sources' target='_blank' rel='noopener noreferrer'>Public/Comm. shared</a></td><td class='upgini-text'>f_events_date_week_cos1_f6a8c1fc</td><td class='upgini-number'>0.019963</td><td class='upgini-number'>100.000000</td><td class='upgini-text'>numerical</td><td class='upgini-text'>Free</td></tr><tr><td class='upgini-text'><a href='https://upgini.com/#data_sources' target='_blank' rel='noopener noreferrer'>Upgini</a></td><td class='upgini-text'><a href='https://upgini.com/#data_sources' target='_blank' rel='noopener noreferrer'>Public/Comm. shared</a></td><td class='upgini-text'>f_events_date_year_cos1_9014a856</td><td class='upgini-number'>0.015023</td><td class='upgini-number'>100.000000</td><td class='upgini-text'>numerical</td><td class='upgini-text'>Free</td></tr><tr><td class='upgini-text'><a href='https://upgini.com/#data_sources' target='_blank' rel='noopener noreferrer'>Upgini</a></td><td class='upgini-text'><a href='https://upgini.com/#data_sources' target='_blank' rel='noopener noreferrer'>Public/Comm. shared</a></td><td class='upgini-text'>f_weather_date_weather_umap_24_2e14c9a6</td><td class='upgini-number'>0.014776</td><td class='upgini-number'>100.000000</td><td class='upgini-text'>numerical</td><td class='upgini-text'>Free</td></tr><tr><td class='upgini-text'><a href='https://upgini.com/#data_sources' target='_blank' rel='noopener noreferrer'>Upgini</a></td><td class='upgini-text'><a href='https://upgini.com/#data_sources' target='_blank' rel='noopener noreferrer'>Public/Comm. shared</a></td><td class='upgini-text'>f_financial_date_dow_jones_fe02128f</td><td class='upgini-number'>0.007141</td><td class='upgini-number'>100.000000</td><td class='upgini-text'>numerical</td><td class='upgini-text'>Free</td></tr><tr><td class='upgini-text'><a href='https://upgini.com/#data_sources' target='_blank' rel='noopener noreferrer'>Upgini</a></td><td class='upgini-text'><a href='https://upgini.com/#data_sources' target='_blank' rel='noopener noreferrer'>Public/Comm. shared</a></td><td class='upgini-text'>f_weather_date_weather_umap_31_fa6d9a99</td><td class='upgini-number'>0.005965</td><td class='upgini-number'>100.000000</td><td class='upgini-text'>numerical</td><td class='upgini-text'>Free</td></tr><tr><td class='upgini-text'><a href='https://upgini.com/#data_sources' target='_blank' rel='noopener noreferrer'>Upgini</a></td><td class='upgini-text'><a href='https://upgini.com/#data_sources' target='_blank' rel='noopener noreferrer'>Public/Comm. shared</a></td><td class='upgini-text'>f_events_date_italy_game_cnt_99570b80</td><td class='upgini-number'>0.003994</td><td class='upgini-number'>100.000000</td><td class='upgini-text'>numerical</td><td class='upgini-text'>Free</td></tr><tr><td class='upgini-text'><a href='https://upgini.com/#data_sources' target='_blank' rel='noopener noreferrer'>Upgini</a></td><td class='upgini-text'><a href='https://upgini.com/#data_sources' target='_blank' rel='noopener noreferrer'>Public/Comm. shared</a></td><td class='upgini-text'>f_financial_date_dow_jones_7d_to_7d_1y_shift_61f71e90</td><td class='upgini-number'>0.003934</td><td class='upgini-number'>100.000000</td><td class='upgini-text'>numerical</td><td class='upgini-text'>Free</td></tr><tr><td class='upgini-text'><a href='https://upgini.com/#data_sources' target='_blank' rel='noopener noreferrer'>Upgini</a></td><td class='upgini-text'><a href='https://upgini.com/#data_sources' target='_blank' rel='noopener noreferrer'>Public/Comm. shared</a></td><td class='upgini-text'>f_weather_date_weather_umap_35_5ddaa0ba</td><td class='upgini-number'>0.003733</td><td class='upgini-number'>100.000000</td><td class='upgini-text'>numerical</td><td class='upgini-text'>Free</td></tr></tbody></table>"
            ]
          },
          "metadata": {}
        }
      ]
    },
    {
      "cell_type": "code",
      "source": [
        "from catboost import CatBoostRegressor\n",
        "from catboost.utils import eval_metric\n",
        "\n",
        "model = CatBoostRegressor(verbose=False, allow_writing_files=False, random_state=0)\n",
        "enricher.calculate_metrics(\n",
        "    train_features, train_target,\n",
        "    eval_set=[(test_features, test_target)],\n",
        "    estimator = model,\n",
        "    scoring = \"mean_absolute_percentage_error\"\n",
        ")"
      ],
      "metadata": {
        "colab": {
          "base_uri": "https://localhost:8080/",
          "height": 161
        },
        "id": "skGO-z4hvAWm",
        "outputId": "d059f19a-1c47-44b6-f95b-c2adb030f2d3"
      },
      "execution_count": null,
      "outputs": [
        {
          "output_type": "stream",
          "name": "stdout",
          "text": [
            "Calculating metrics...\n",
            "Done\n"
          ]
        },
        {
          "output_type": "execute_result",
          "data": {
            "text/plain": [
              "        match_rate  baseline mean_absolute_percentage_error  \\\n",
              "                                                              \n",
              "train        100.0                                 0.257526   \n",
              "eval 1       100.0                                 0.273200   \n",
              "\n",
              "        enriched mean_absolute_percentage_error    uplift  \n",
              "                                                           \n",
              "train                                  0.158546  0.098981  \n",
              "eval 1                                 0.186723  0.086477  "
            ],
            "text/html": [
              "\n",
              "  <div id=\"df-fba2a6d4-9429-43be-ae7a-22013da01b38\">\n",
              "    <div class=\"colab-df-container\">\n",
              "      <div>\n",
              "<style scoped>\n",
              "    .dataframe tbody tr th:only-of-type {\n",
              "        vertical-align: middle;\n",
              "    }\n",
              "\n",
              "    .dataframe tbody tr th {\n",
              "        vertical-align: top;\n",
              "    }\n",
              "\n",
              "    .dataframe thead th {\n",
              "        text-align: right;\n",
              "    }\n",
              "</style>\n",
              "<table border=\"1\" class=\"dataframe\">\n",
              "  <thead>\n",
              "    <tr style=\"text-align: right;\">\n",
              "      <th></th>\n",
              "      <th>match_rate</th>\n",
              "      <th>baseline mean_absolute_percentage_error</th>\n",
              "      <th>enriched mean_absolute_percentage_error</th>\n",
              "      <th>uplift</th>\n",
              "    </tr>\n",
              "    <tr>\n",
              "      <th></th>\n",
              "      <th></th>\n",
              "      <th></th>\n",
              "      <th></th>\n",
              "      <th></th>\n",
              "    </tr>\n",
              "  </thead>\n",
              "  <tbody>\n",
              "    <tr>\n",
              "      <th>train</th>\n",
              "      <td>100.0</td>\n",
              "      <td>0.257526</td>\n",
              "      <td>0.158546</td>\n",
              "      <td>0.098981</td>\n",
              "    </tr>\n",
              "    <tr>\n",
              "      <th>eval 1</th>\n",
              "      <td>100.0</td>\n",
              "      <td>0.273200</td>\n",
              "      <td>0.186723</td>\n",
              "      <td>0.086477</td>\n",
              "    </tr>\n",
              "  </tbody>\n",
              "</table>\n",
              "</div>\n",
              "      <button class=\"colab-df-convert\" onclick=\"convertToInteractive('df-fba2a6d4-9429-43be-ae7a-22013da01b38')\"\n",
              "              title=\"Convert this dataframe to an interactive table.\"\n",
              "              style=\"display:none;\">\n",
              "        \n",
              "  <svg xmlns=\"http://www.w3.org/2000/svg\" height=\"24px\"viewBox=\"0 0 24 24\"\n",
              "       width=\"24px\">\n",
              "    <path d=\"M0 0h24v24H0V0z\" fill=\"none\"/>\n",
              "    <path d=\"M18.56 5.44l.94 2.06.94-2.06 2.06-.94-2.06-.94-.94-2.06-.94 2.06-2.06.94zm-11 1L8.5 8.5l.94-2.06 2.06-.94-2.06-.94L8.5 2.5l-.94 2.06-2.06.94zm10 10l.94 2.06.94-2.06 2.06-.94-2.06-.94-.94-2.06-.94 2.06-2.06.94z\"/><path d=\"M17.41 7.96l-1.37-1.37c-.4-.4-.92-.59-1.43-.59-.52 0-1.04.2-1.43.59L10.3 9.45l-7.72 7.72c-.78.78-.78 2.05 0 2.83L4 21.41c.39.39.9.59 1.41.59.51 0 1.02-.2 1.41-.59l7.78-7.78 2.81-2.81c.8-.78.8-2.07 0-2.86zM5.41 20L4 18.59l7.72-7.72 1.47 1.35L5.41 20z\"/>\n",
              "  </svg>\n",
              "      </button>\n",
              "      \n",
              "  <style>\n",
              "    .colab-df-container {\n",
              "      display:flex;\n",
              "      flex-wrap:wrap;\n",
              "      gap: 12px;\n",
              "    }\n",
              "\n",
              "    .colab-df-convert {\n",
              "      background-color: #E8F0FE;\n",
              "      border: none;\n",
              "      border-radius: 50%;\n",
              "      cursor: pointer;\n",
              "      display: none;\n",
              "      fill: #1967D2;\n",
              "      height: 32px;\n",
              "      padding: 0 0 0 0;\n",
              "      width: 32px;\n",
              "    }\n",
              "\n",
              "    .colab-df-convert:hover {\n",
              "      background-color: #E2EBFA;\n",
              "      box-shadow: 0px 1px 2px rgba(60, 64, 67, 0.3), 0px 1px 3px 1px rgba(60, 64, 67, 0.15);\n",
              "      fill: #174EA6;\n",
              "    }\n",
              "\n",
              "    [theme=dark] .colab-df-convert {\n",
              "      background-color: #3B4455;\n",
              "      fill: #D2E3FC;\n",
              "    }\n",
              "\n",
              "    [theme=dark] .colab-df-convert:hover {\n",
              "      background-color: #434B5C;\n",
              "      box-shadow: 0px 1px 3px 1px rgba(0, 0, 0, 0.15);\n",
              "      filter: drop-shadow(0px 1px 2px rgba(0, 0, 0, 0.3));\n",
              "      fill: #FFFFFF;\n",
              "    }\n",
              "  </style>\n",
              "\n",
              "      <script>\n",
              "        const buttonEl =\n",
              "          document.querySelector('#df-fba2a6d4-9429-43be-ae7a-22013da01b38 button.colab-df-convert');\n",
              "        buttonEl.style.display =\n",
              "          google.colab.kernel.accessAllowed ? 'block' : 'none';\n",
              "\n",
              "        async function convertToInteractive(key) {\n",
              "          const element = document.querySelector('#df-fba2a6d4-9429-43be-ae7a-22013da01b38');\n",
              "          const dataTable =\n",
              "            await google.colab.kernel.invokeFunction('convertToInteractive',\n",
              "                                                     [key], {});\n",
              "          if (!dataTable) return;\n",
              "\n",
              "          const docLinkHtml = 'Like what you see? Visit the ' +\n",
              "            '<a target=\"_blank\" href=https://colab.research.google.com/notebooks/data_table.ipynb>data table notebook</a>'\n",
              "            + ' to learn more about interactive tables.';\n",
              "          element.innerHTML = '';\n",
              "          dataTable['output_type'] = 'display_data';\n",
              "          await google.colab.output.renderOutput(dataTable, element);\n",
              "          const docLink = document.createElement('div');\n",
              "          docLink.innerHTML = docLinkHtml;\n",
              "          element.appendChild(docLink);\n",
              "        }\n",
              "      </script>\n",
              "    </div>\n",
              "  </div>\n",
              "  "
            ]
          },
          "metadata": {},
          "execution_count": 9
        }
      ]
    },
    {
      "cell_type": "code",
      "source": [
        "enriched_train_features = enricher.transform(train_features, keep_input=True)\n",
        "enriched_test_features = enricher.transform(test_features, keep_input=True)\n",
        "enriched_train_features.head()"
      ],
      "metadata": {
        "colab": {
          "base_uri": "https://localhost:8080/",
          "height": 333
        },
        "id": "cVm5pgqJwNE7",
        "outputId": "b535069d-d6b8-4fba-e68a-5485f7fb102c"
      },
      "execution_count": null,
      "outputs": [
        {
          "output_type": "stream",
          "name": "stdout",
          "text": [
            "WARNING: You have started the search with the DATE key only. Try to add the COUNTRY and/or POSTAL_CODE and/or PHONE NUMBER and/or EMAIL/HEM and/or IP address keys to your dataset so that the search engine gets access to the additional data sources. Get details on https://github.com/upgini/upgini#readme\n",
            "WARNING: 81.76014% of the rows are fully duplicated.\n"
          ]
        },
        {
          "output_type": "display_data",
          "data": {
            "text/plain": [
              "<IPython.core.display.HTML object>"
            ],
            "text/html": [
              "<table><tr><th style='font-weight:bold'>Column name</th><th style='font-weight:bold'>Status</th><th style='font-weight:bold'>Description</th></tr><tr><td>date</td><td style='background-color:#DAF7A6;color:black'>All valid</td><td>All values in this column are good to go</td></tr></table>"
            ]
          },
          "metadata": {}
        },
        {
          "output_type": "stream",
          "name": "stdout",
          "text": [
            "Running search request with search_id=2402c77d-3b87-4e30-8980-fa4e7e297862\n",
            "We'll send email notification once it's completed, just use your personal api_key from profile.upgini.com\n",
            "Done\n",
            "\n",
            "Collecting selected features...\n",
            "Done\n",
            "WARNING: You have started the search with the DATE key only. Try to add the COUNTRY and/or POSTAL_CODE and/or PHONE NUMBER and/or EMAIL/HEM and/or IP address keys to your dataset so that the search engine gets access to the additional data sources. Get details on https://github.com/upgini/upgini#readme\n",
            "WARNING: 81.85885% of the rows are fully duplicated.\n"
          ]
        },
        {
          "output_type": "display_data",
          "data": {
            "text/plain": [
              "<IPython.core.display.HTML object>"
            ],
            "text/html": [
              "<table><tr><th style='font-weight:bold'>Column name</th><th style='font-weight:bold'>Status</th><th style='font-weight:bold'>Description</th></tr><tr><td>date</td><td style='background-color:#DAF7A6;color:black'>All valid</td><td>All values in this column are good to go</td></tr></table>"
            ]
          },
          "metadata": {}
        },
        {
          "output_type": "stream",
          "name": "stdout",
          "text": [
            "Running search request with search_id=f7f8787f-ce5c-4417-b9ff-7d467868963f\n",
            "We'll send email notification once it's completed, just use your personal api_key from profile.upgini.com\n"
          ]
        }
      ]
    },
    {
      "cell_type": "markdown",
      "source": [
        "The next two cells compare the error rate for the normal model vs the enriched model"
      ],
      "metadata": {
        "id": "YV1onlZ12xsC"
      }
    },
    {
      "cell_type": "code",
      "source": [
        "model.fit(train_features, train_target)\n",
        "preds = model.predict(test_features)\n",
        "eval_metric(test_target.values, preds, \"SMAPE\")"
      ],
      "metadata": {
        "colab": {
          "base_uri": "https://localhost:8080/"
        },
        "id": "rHtJhMoiwxNc",
        "outputId": "9e4225bf-c31c-4b71-b869-3eb711f5ad2a"
      },
      "execution_count": null,
      "outputs": [
        {
          "output_type": "execute_result",
          "data": {
            "text/plain": [
              "[39.56447289695444]"
            ]
          },
          "metadata": {},
          "execution_count": 12
        }
      ]
    },
    {
      "cell_type": "code",
      "source": [
        "model.fit(enriched_train_features, train_target)\n",
        "enriched_preds = model.predict(enriched_test_features)\n",
        "eval_metric(test_target.values, enriched_preds, \"SMAPE\")"
      ],
      "metadata": {
        "colab": {
          "base_uri": "https://localhost:8080/"
        },
        "id": "KgSMF13Dy1tX",
        "outputId": "0de2fb6b-ff35-4528-a017-f5314f4ecfd2"
      },
      "execution_count": null,
      "outputs": [
        {
          "output_type": "execute_result",
          "data": {
            "text/plain": [
              "[14.965073430366601]"
            ]
          },
          "metadata": {},
          "execution_count": 13
        }
      ]
    }
  ]
}